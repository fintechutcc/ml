{
  "nbformat": 4,
  "nbformat_minor": 0,
  "metadata": {
    "colab": {
      "name": "ML_Lab_01.ipynb",
      "provenance": [],
      "authorship_tag": "ABX9TyNlpBNng2PX1CSS5AZKRs/g",
      "include_colab_link": true
    },
    "kernelspec": {
      "name": "python3",
      "display_name": "Python 3"
    }
  },
  "cells": [
    {
      "cell_type": "markdown",
      "metadata": {
        "id": "view-in-github",
        "colab_type": "text"
      },
      "source": [
        "<a href=\"https://colab.research.google.com/github/fintechutcc/ml/blob/master/ML_Lab_01.ipynb\" target=\"_parent\"><img src=\"https://colab.research.google.com/assets/colab-badge.svg\" alt=\"Open In Colab\"/></a>"
      ]
    },
    {
      "cell_type": "markdown",
      "metadata": {
        "id": "9t4VHilcVqhB",
        "colab_type": "text"
      },
      "source": [
        "# Vector ใน Python"
      ]
    },
    {
      "cell_type": "code",
      "metadata": {
        "id": "buo1Xen9Vj94",
        "colab_type": "code",
        "colab": {}
      },
      "source": [
        "x0, x1, x2 = 1., 2., 3.\n",
        "w0, w1, w2 = 0.1, 0.2, 0.3\n",
        "\n",
        "x = [x0, x1, x2]\n",
        "w = [w0, w1, w2]"
      ],
      "execution_count": 3,
      "outputs": []
    },
    {
      "cell_type": "markdown",
      "metadata": {
        "id": "T8Wngn7DWuJC",
        "colab_type": "text"
      },
      "source": [
        "การคำนวณ Dot Product สามารถใช้ for ดังนี้"
      ]
    },
    {
      "cell_type": "code",
      "metadata": {
        "id": "KbXs5DN3WfND",
        "colab_type": "code",
        "colab": {
          "base_uri": "https://localhost:8080/",
          "height": 34
        },
        "outputId": "6b2f448c-c12a-4479-df76-86d98f1a344b"
      },
      "source": [
        "z = 0.\n",
        "for i in range(len(x)):\n",
        "  z += x[i] * w[i]\n",
        "\n",
        "print(z)"
      ],
      "execution_count": 4,
      "outputs": [
        {
          "output_type": "stream",
          "text": [
            "1.4\n"
          ],
          "name": "stdout"
        }
      ]
    },
    {
      "cell_type": "markdown",
      "metadata": {
        "id": "aeF93DegW4l9",
        "colab_type": "text"
      },
      "source": [
        "ลองพิจารณาตัวอย่างโค้ดต่อไปนี้ โดยใช้สิ่งที่เรียกว่า List Comprehension"
      ]
    },
    {
      "cell_type": "code",
      "metadata": {
        "id": "A4IQLgQgW8fO",
        "colab_type": "code",
        "colab": {
          "base_uri": "https://localhost:8080/",
          "height": 34
        },
        "outputId": "e25a1ef4-5ed3-4a1f-8a18-571b00103d75"
      },
      "source": [
        "z = sum(xi * wi for xi, wi in zip(x, w))\n",
        "print(z)"
      ],
      "execution_count": 5,
      "outputs": [
        {
          "output_type": "stream",
          "text": [
            "1.4\n"
          ],
          "name": "stdout"
        }
      ]
    },
    {
      "cell_type": "markdown",
      "metadata": {
        "id": "QdvpTFG4XKLW",
        "colab_type": "text"
      },
      "source": [
        "โค้ดข้างต้นให้ผลลัพธ์เช่นเดียวกัน แต่ลักษณะของโค้ดทำให้เข้าใจได้ง่ายขึ้น กระชับขึ้น"
      ]
    },
    {
      "cell_type": "code",
      "metadata": {
        "id": "QC8TvXlxXU87",
        "colab_type": "code",
        "colab": {
          "base_uri": "https://localhost:8080/",
          "height": 51
        },
        "outputId": "73dd5fb9-56a6-4deb-bb6d-d3928e5615fd"
      },
      "source": [
        "import numpy as np\n",
        "\n",
        "x_vec, w_vec = np.array(x), np.array(w)\n",
        "z = (x_vec.transpose()).dot(w_vec)\n",
        "print(z)\n",
        "\n",
        "z = x_vec.dot(w_vec)\n",
        "print(z)"
      ],
      "execution_count": 6,
      "outputs": [
        {
          "output_type": "stream",
          "text": [
            "1.4\n",
            "1.4\n"
          ],
          "name": "stdout"
        }
      ]
    },
    {
      "cell_type": "markdown",
      "metadata": {
        "id": "QvOyJ74OX0GJ",
        "colab_type": "text"
      },
      "source": [
        "ลองมาดูเชิงประสิทธิภาพระหว่างการวนรอบ, List Comprehension และ numpy vector"
      ]
    },
    {
      "cell_type": "code",
      "metadata": {
        "id": "-0FhwSxLZROA",
        "colab_type": "code",
        "colab": {}
      },
      "source": [
        "def dotLoop(x, w):\n",
        "  z = 0.\n",
        "  for i in range(len(x)):\n",
        "    z += x[i] * w[i]\n",
        "  return z\n",
        "\n",
        "def dotListComprehension(x, w):\n",
        "  return sum(xi * wi for xi, wi in zip(x, w))\n",
        "\n",
        "def dotNumpyVector(x, w):\n",
        "  x_vec, w_vec = np.array(x), np.array(w)\n",
        "  return x_vec.dot(w_vec)\n",
        "\n",
        "num = 100000\n",
        "x, w = np.random.rand(num), np.random.rand(num)"
      ],
      "execution_count": 10,
      "outputs": []
    },
    {
      "cell_type": "code",
      "metadata": {
        "id": "67veOA6eaMJe",
        "colab_type": "code",
        "colab": {
          "base_uri": "https://localhost:8080/",
          "height": 34
        },
        "outputId": "d0e64b9f-3a19-46ab-d464-ca3c2cc46ccb"
      },
      "source": [
        "%timeit -r 100 -n 10 dotLoop(x, w)"
      ],
      "execution_count": 8,
      "outputs": [
        {
          "output_type": "stream",
          "text": [
            "10 loops, best of 100: 44.6 ms per loop\n"
          ],
          "name": "stdout"
        }
      ]
    },
    {
      "cell_type": "code",
      "metadata": {
        "id": "PQ8qyFsAarzh",
        "colab_type": "code",
        "colab": {
          "base_uri": "https://localhost:8080/",
          "height": 34
        },
        "outputId": "19bd0753-3ea3-4093-e5ae-8619706b0054"
      },
      "source": [
        "%timeit -r 100 -n 10 dotListComprehension(x, w)"
      ],
      "execution_count": 9,
      "outputs": [
        {
          "output_type": "stream",
          "text": [
            "10 loops, best of 100: 42.3 ms per loop\n"
          ],
          "name": "stdout"
        }
      ]
    },
    {
      "cell_type": "code",
      "metadata": {
        "id": "U2Edip2HbXAa",
        "colab_type": "code",
        "colab": {
          "base_uri": "https://localhost:8080/",
          "height": 51
        },
        "outputId": "3bbc5b48-bb15-413a-be4b-8e53eeb0c29f"
      },
      "source": [
        "%timeit -r 100 -n 10 dotNumpyVector(x, w)"
      ],
      "execution_count": 11,
      "outputs": [
        {
          "output_type": "stream",
          "text": [
            "The slowest run took 4.32 times longer than the fastest. This could mean that an intermediate result is being cached.\n",
            "10 loops, best of 100: 340 µs per loop\n"
          ],
          "name": "stdout"
        }
      ]
    }
  ]
}